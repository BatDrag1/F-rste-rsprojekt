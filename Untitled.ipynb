{
 "cells": [
  {
   "cell_type": "raw",
   "id": "2417ab80-73c3-4209-b1b5-703f9f6b320f",
   "metadata": {},
   "source": [
    "CENTROID"
   ]
  },
  {
   "cell_type": "code",
   "execution_count": 229,
   "id": "cf79ec8d-8924-4b9b-9c8e-3c64b706eb01",
   "metadata": {},
   "outputs": [],
   "source": [
    "import trimesh\n",
    "import pymeshlab\n",
    "import numpy as np\n",
    "import open3d as o3d\n",
    "from numpy import linalg as LA\n",
    "from functools import reduce"
   ]
  },
  {
   "cell_type": "code",
   "execution_count": 231,
   "id": "0b1a25cf-b7f2-4fd3-b98f-443078ac3c6e",
   "metadata": {},
   "outputs": [
    {
     "name": "stdout",
     "output_type": "stream",
     "text": [
      "[[-0.004688    0.09172909  0.02415076]\n",
      " [-0.004102    0.09172909  0.02415076]\n",
      " [-0.003809    0.09175673  0.02453249]\n",
      " ...\n",
      " [-0.006153    0.15663855  0.02149424]\n",
      " [-0.00586     0.15663855  0.02149424]\n",
      " [-0.005567    0.15662847  0.02098651]]\n"
     ]
    },
    {
     "data": {
      "text/plain": [
       "array([-0.004688  ,  0.09172909,  0.02415076])"
      ]
     },
     "execution_count": 231,
     "metadata": {},
     "output_type": "execute_result"
    }
   ],
   "source": [
    "ms = pymeshlab.MeshSet()\n",
    "ms.load_new_mesh(\"C:\\\\Users\\\\adamt\\\\open3d_data\\\\download\\\\drill\\\\data\\\\drill_1.6mm_30_cyb.ply\")\n",
    "\n",
    "# Get the current mesh\n",
    "mesh = ms.current_mesh()\n",
    "\n",
    "# Access vertex coordinates as NumPy array\n",
    "vertex_array = mesh.vertex_matrix()\n",
    "\n",
    "print(vertex_array)\n",
    "vertex_array[0]"
   ]
  },
  {
   "cell_type": "code",
   "execution_count": 233,
   "id": "263caa11-ec29-49bb-8ff2-4124634f0fa6",
   "metadata": {},
   "outputs": [],
   "source": [
    "def centroid_pcd(P):\n",
    "    cen = np.zeros(3)\n",
    "    K = np.size(P)/3\n",
    "    for xyz in P:\n",
    "        cen = np.add(cen,xyz)\n",
    "    return np.multiply(cen,1/K)\n",
    "cen = centroid_pcd(vertex_array)"
   ]
  },
  {
   "cell_type": "code",
   "execution_count": 235,
   "id": "b02603f3-fad2-4c38-96d7-e98443d47941",
   "metadata": {},
   "outputs": [],
   "source": [
    "pcd = o3d.io.read_point_cloud(\"C:\\\\Users\\\\adamt\\\\open3d_data\\\\download\\\\drill\\\\data\\\\drill_1.6mm_30_cyb.ply\")\n",
    "centroid = o3d.geometry.PointCloud()\n",
    "cen = centroid_pcd(vertex_array)\n",
    "centroid.points = o3d.utility.Vector3dVector([cen])\n",
    "centroid.colors = o3d.utility.Vector3dVector([[0,1,0]])\n",
    "sphere = o3d.geometry.TriangleMesh.create_sphere(radius=0.001)  # Adjust radius for size\n",
    "sphere.translate(cen)  # Move sphere to the point's location\n",
    "sphere.paint_uniform_color([1, 0, 0])  # Set color (red)\n",
    "o3d.visualization.draw_geometries([sphere,pcd])"
   ]
  },
  {
   "cell_type": "raw",
   "id": "9f82086d-052d-4fb6-98bb-903b0ce95ded",
   "metadata": {},
   "source": [
    "COVARIANCE"
   ]
  },
  {
   "cell_type": "code",
   "execution_count": 237,
   "id": "95788c21-fffa-40af-aeaa-1ac852b672f3",
   "metadata": {},
   "outputs": [
    {
     "name": "stdout",
     "output_type": "stream",
     "text": [
      "[[ 4.23497832e-05 -1.90084358e-05 -3.18871790e-06]\n",
      " [-1.90084358e-05  4.48096801e-04 -3.69493172e-05]\n",
      " [-3.18871790e-06 -3.69493172e-05  1.56421453e-05]]\n"
     ]
    }
   ],
   "source": [
    "def covar(P):\n",
    "    P_copy = P.copy()\n",
    "    cen = centroid_pcd(P_copy)\n",
    "    K = np.size(P_copy)/3\n",
    "    for i in range(int(K)):\n",
    "        P_copy[i] = P_copy[i] - cen\n",
    "    return np.multiply(1/K,np.dot(P_copy.transpose(),P_copy))\n",
    "print(covar(vertex_array))"
   ]
  },
  {
   "cell_type": "raw",
   "id": "2c99696a-fb84-4ad1-b563-747d75c065f0",
   "metadata": {},
   "source": [
    "MODEFIED COVARIANCE:"
   ]
  },
  {
   "cell_type": "code",
   "execution_count": 239,
   "id": "9c8f92f4-d9ab-4017-a761-c72d11b4f862",
   "metadata": {},
   "outputs": [
    {
     "data": {
      "text/plain": [
       "array([[ 1.69859894e-04,  3.85447679e-04, -1.25703179e-05],\n",
       "       [ 3.85447679e-04,  1.83482135e-03, -5.49568632e-05],\n",
       "       [-1.25703179e-05, -5.49568632e-05,  1.54036375e-05]])"
      ]
     },
     "execution_count": 239,
     "metadata": {},
     "output_type": "execute_result"
    }
   ],
   "source": [
    "def mod_covar(P,R:float,p):\n",
    "    v = []\n",
    "    for i in range(int(np.size(P)/3)):\n",
    "        v.append(R - LA.norm(P[i] - p))\n",
    "    scalar = 1/(reduce(lambda x,y: x + y, v,0))\n",
    "    M = sum(np.multiply(v[i],np.matmul(np.transpose([P[i] - p]),[P[i]-p]))\n",
    "                 for i in range(int(np.size(P)/3)))\n",
    "    return np.multiply(scalar, M)\n",
    "mod_covar(vertex_array,0.001,vertex_array[200])"
   ]
  },
  {
   "cell_type": "raw",
   "id": "5e972b21-6122-4ba2-8482-5032345da3d9",
   "metadata": {},
   "source": [
    "DISAMBIGUATING EIGENVECTORS"
   ]
  },
  {
   "cell_type": "code",
   "execution_count": 249,
   "id": "1f75d25c-13a4-4cfc-aa78-4b2005013ab3",
   "metadata": {},
   "outputs": [
    {
     "data": {
      "text/plain": [
       "(array([-0.00204177,  0.99297526, -0.11830455]),\n",
       " array([-0.96906716,  0.02723163,  0.24529019]),\n",
       " array([0.24678871, 0.11514588, 0.96220411]))"
      ]
     },
     "execution_count": 249,
     "metadata": {},
     "output_type": "execute_result"
    }
   ],
   "source": [
    "#Get eigenvectors + values\n",
    "def EVD(P,R,p):\n",
    "    eigenvalues, eigenvectors = LA.eig(mod_covar(vertex_array,R,p))\n",
    "    eig = eigenvalues.copy()\n",
    "    first = np.where(eigenvalues == max(eig))[0][0]\n",
    "    eig = np.delete(eig,first)\n",
    "    second = np.where(eigenvalues == max(eig))[0][0]\n",
    "    eig = np.delete(eig,np.where(eig == max(eig)))\n",
    "    third = np.where(eigenvalues == eig[0])[0][0]\n",
    "    sorted_eigenvalues = np.array([eigenvalues[first],eigenvalues[second],eigenvalues[third]])\n",
    "    sorted_eigenvectors = np.column_stack((eigenvectors[:,first],eigenvectors[:,second],eigenvectors[:,third]))\n",
    "    return sorted_eigenvalues,sorted_eigenvectors\n",
    "    \n",
    "def original_EVD(P,R,p):\n",
    "    return LA.eig(mod_covar(vertex_array,R,p))\n",
    "\n",
    "def dis_amb(P,R,p):\n",
    "    eigenvalues, eigenvectors = EVD(P,R,p)\n",
    "    x_pos = eigenvectors[:,0]\n",
    "    y_pos = eigenvectors[:,1]\n",
    "    z_pos = eigenvectors[:,2]\n",
    "    x_neg = np.multiply(-1,x_pos)\n",
    "    y_neg = np.multiply(-1,y_pos)\n",
    "    z_neg = np.multiply(-1,z_pos)\n",
    "    for i in  range(int(np.size(P)/3)):\n",
    "        Sx_pos = 0\n",
    "        Sx_neg = 0\n",
    "        if np.dot((P[i] - p),x_pos) >= 0:\n",
    "            Sx_pos = Sx_pos + 1\n",
    "        else:\n",
    "            Sx_neg = Sx_neg + 1\n",
    "    if Sx_pos >= Sx_neg:\n",
    "        x = x_pos\n",
    "    else:\n",
    "        x = x_neg\n",
    "    for i in range(int(np.size(P)/3)):\n",
    "        Sz_pos = 0\n",
    "        Sz_neg = 0\n",
    "        if np.dot((P[i] - p),z_pos) >= 0:\n",
    "            Sz_pos = Sz_pos + 1\n",
    "        else:\n",
    "            Sz_neg = Sz_neg + 1\n",
    "    if Sz_pos >= Sz_neg:\n",
    "        z = z_pos\n",
    "    else:\n",
    "        z = z_neg\n",
    "    y = np.cross(z,x)\n",
    "    return x,y,z\n",
    "#SORT THE EIGENVALUE + VECTORS;\n",
    "#EVD(vertex_array,0.001,vertex_array[20])\n",
    "#original_EVD(vertex_array,0.001,vertex_array[20])\n",
    "dis_amb(vertex_array,0.001,vertex_array[20])"
   ]
  },
  {
   "cell_type": "code",
   "execution_count": 243,
   "id": "8b06c81d-7abc-48c7-ba5f-ed8adc2df9de",
   "metadata": {},
   "outputs": [],
   "source": [
    "def draw_geometries(pcds):\n",
    "    \"\"\"\n",
    "    Draw Geometries\n",
    "    Args:\n",
    "        - pcds (): [pcd1,pcd2,...]\n",
    "    \"\"\"\n",
    "    o3d.visualization.draw_geometries(pcds)\n",
    "\n",
    "def get_o3d_FOR(origin=[0, 0, 0],size=0.05):\n",
    "    \"\"\" \n",
    "    Create a FOR that can be added to the open3d point cloud\n",
    "    \"\"\"\n",
    "    mesh_frame = o3d.geometry.TriangleMesh.create_coordinate_frame(\n",
    "    size=size)\n",
    "    mesh_frame.translate(origin)\n",
    "    return(mesh_frame)\n",
    "\n",
    "def vector_magnitude(vec):\n",
    "    \"\"\"\n",
    "    Calculates a vector's magnitude.\n",
    "    Args:\n",
    "        - vec (): \n",
    "    \"\"\"\n",
    "    magnitude = np.sqrt(np.sum(vec**2))\n",
    "    return(magnitude)\n",
    "\n",
    "\n",
    "def calculate_zy_rotation_for_arrow(vec):\n",
    "    \"\"\"\n",
    "    Calculates the rotations required to go from the vector vec to the \n",
    "    z axis vector of the original FOR. The first rotation that is \n",
    "    calculated is over the z axis. This will leave the vector vec on the\n",
    "    XZ plane. Then, the rotation over the y axis. \n",
    "\n",
    "    Returns the angles of rotation over axis z and y required to\n",
    "    get the vector vec into the same orientation as axis z\n",
    "    of the original FOR\n",
    "\n",
    "    Args:\n",
    "        - vec (): \n",
    "    \"\"\"\n",
    "    # Rotation over z axis of the FOR\n",
    "    gamma = np.arctan(vec[1]/vec[0])\n",
    "    Rz = np.array([[np.cos(gamma),-np.sin(gamma),0],\n",
    "                   [np.sin(gamma),np.cos(gamma),0],\n",
    "                   [0,0,1]])\n",
    "    # Rotate vec to calculate next rotation\n",
    "    vec = Rz.T@vec.reshape(-1,1)\n",
    "    vec = vec.reshape(-1)\n",
    "    # Rotation over y axis of the FOR\n",
    "    beta = np.arctan(vec[0]/vec[2])\n",
    "    Ry = np.array([[np.cos(beta),0,np.sin(beta)],\n",
    "                   [0,1,0],\n",
    "                   [-np.sin(beta),0,np.cos(beta)]])\n",
    "    return(Rz, Ry)\n",
    "\n",
    "def create_arrow(scale=0.001):\n",
    "    \"\"\"\n",
    "    Create an arrow in for Open3D\n",
    "    \"\"\"\n",
    "    cone_height = scale*0.002\n",
    "    cylinder_height = scale*0.008\n",
    "    cone_radius = scale/10\n",
    "    cylinder_radius = scale/20\n",
    "    mesh_frame = o3d.geometry.TriangleMesh.create_arrow(cone_radius=0.001,\n",
    "        cone_height=cone_height,\n",
    "        cylinder_radius=0.0005,\n",
    "        cylinder_height=cylinder_height)\n",
    "    return(mesh_frame)\n",
    "\n",
    "def get_arrow(origin=[0, 0, 0], end=None, vec=None):\n",
    "    \"\"\"\n",
    "    Creates an arrow from an origin point to an end point,\n",
    "    or create an arrow from a vector vec starting from origin.\n",
    "    Args:\n",
    "        - end (): End point. [x,y,z]\n",
    "        - vec (): Vector. [i,j,k]\n",
    "    \"\"\"\n",
    "    scale = 0.001\n",
    "    Ry = Rz = np.eye(3)\n",
    "    T = np.array([[1, 0, 0, 0], [0, 1, 0, 0], [0, 0, 1, 0], [0, 0, 0, 1]])\n",
    "    T[:3, -1] = origin\n",
    "    if end is not None:\n",
    "        vec = np.array(end) - np.array(origin)\n",
    "    elif vec is not None:\n",
    "        vec = np.array(vec)\n",
    "    if end is not None or vec is not None:\n",
    "        scale = vector_magnitude(vec)\n",
    "        Rz, Ry = calculate_zy_rotation_for_arrow(vec)\n",
    "    mesh = create_arrow(scale)\n",
    "    # Create the arrow\n",
    "    mesh.rotate(Ry, center=np.array([0, 0, 0]))\n",
    "    mesh.rotate(Rz, center=np.array([0, 0, 0]))\n",
    "    mesh.translate(origin)\n",
    "    return(mesh)\n",
    "\n",
    "\n",
    "# Create a Cartesian Frame of Reference\n",
    "\n",
    "# Create an arrow from point (5,5,5) to point (10,10,10)\n",
    "# arrow = get_arrow([5,5,5],[10,10,10])\n",
    "\n",
    "# Create an arrow representing vector vec, starting at (5,5,5)\n",
    "#arrow = get_arrow([5,5,5],vec=[5,5,5])\n",
    "\n",
    "# Create an arrow in the same place as the z axis\n",
    "#arrow = get_arrow()"
   ]
  },
  {
   "cell_type": "code",
   "execution_count": 245,
   "id": "368a6662-e270-4fad-8a28-b4f0195755ea",
   "metadata": {},
   "outputs": [],
   "source": [
    "def get_discriptors(P,R,p,pcd,cen):\n",
    "    FOR = get_o3d_FOR()\n",
    "    x,y,z = dis_amb(vertex_array,R,p)\n",
    "    arrow_x = get_arrow(p,vec=x)\n",
    "    arrow_y = get_arrow(p,vec=y)\n",
    "    arrow_z = get_arrow(p,vec=z)\n",
    "    # Draw everything\n",
    "    draw_geometries([FOR,arrow_x,arrow_y,arrow_z,pcd,sphere])\n",
    "get_discriptors(vertex_array,0.001,vertex_array[320],pcd,sphere)"
   ]
  },
  {
   "cell_type": "code",
   "execution_count": 209,
   "id": "260c88da-2fa8-453b-977c-fd5fe9a895ae",
   "metadata": {},
   "outputs": [],
   "source": [
    "def normalize(v:list):\n",
    "    return np.multiply(1/np.linalg.norm(v),v)"
   ]
  },
  {
   "cell_type": "code",
   "execution_count": 324,
   "id": "9346ed1a-5d10-4662-933f-821b68df66eb",
   "metadata": {},
   "outputs": [
    {
     "name": "stdout",
     "output_type": "stream",
     "text": [
      "[[-0.004688    0.09172909  0.02415076]\n",
      " [-0.004102    0.09172909  0.02415076]\n",
      " [-0.003809    0.09175673  0.02453249]\n",
      " ...\n",
      " [-0.006153    0.15663855  0.02149424]\n",
      " [-0.00586     0.15663855  0.02149424]\n",
      " [-0.005567    0.15662847  0.02098651]]\n"
     ]
    },
    {
     "data": {
      "text/plain": [
       "array([[-0.004688  ,  0.09172909,  0.02415076],\n",
       "       [-0.004102  ,  0.09172909,  0.02415076],\n",
       "       [-0.003809  ,  0.09175673,  0.02453249]])"
      ]
     },
     "execution_count": 324,
     "metadata": {},
     "output_type": "execute_result"
    }
   ],
   "source": [
    "def sort_neighborhood(P,R,p):\n",
    "    copy = P.copy()\n",
    "    k = 0\n",
    "    print(copy)\n",
    "    for i in range(int(np.size(P)/3)):\n",
    "        if np.linalg.norm(P[i] - p) > R:\n",
    "            copy = np.delete(copy,i-k,axis=0)\n",
    "            k = k + 1\n",
    "    return copy\n",
    "sort_neighborhood(vertex_array,0.001,vertex_array[0])"
   ]
  },
  {
   "cell_type": "code",
   "execution_count": null,
   "id": "70201d1d-dccf-4a34-aebc-35b3323828f0",
   "metadata": {},
   "outputs": [],
   "source": [
    "def normals(P,R):\n",
    "    n = []\n",
    "    for xyz in P:\n",
    "        neighborhood = sort_neighborhood(P,R,xyz)\n",
    "        eigval, eigvec = EVD(neighborhood,R,xyz)\n",
    "        n.append(eigvec[:,2])\n",
    "        print(n)\n",
    "    return n\n",
    "normals=normals(vertex_array,0.001)"
   ]
  },
  {
   "cell_type": "code",
   "execution_count": null,
   "id": "86b660d5-a598-4924-aa42-a69aa1ca847d",
   "metadata": {},
   "outputs": [],
   "source": []
  }
 ],
 "metadata": {
  "kernelspec": {
   "display_name": "Python [conda env:base] *",
   "language": "python",
   "name": "conda-base-py"
  },
  "language_info": {
   "codemirror_mode": {
    "name": "ipython",
    "version": 3
   },
   "file_extension": ".py",
   "mimetype": "text/x-python",
   "name": "python",
   "nbconvert_exporter": "python",
   "pygments_lexer": "ipython3",
   "version": "3.12.7"
  }
 },
 "nbformat": 4,
 "nbformat_minor": 5
}
